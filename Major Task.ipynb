{
 "cells": [
  {
   "cell_type": "markdown",
   "id": "e1f73254",
   "metadata": {},
   "source": [
    "### Import Libraries"
   ]
  },
  {
   "cell_type": "code",
   "execution_count": 55,
   "id": "d91f8a0e",
   "metadata": {},
   "outputs": [],
   "source": [
    "import sqlite3\n",
    "import pandas as pd\n",
    "import numpy as np\n",
    "import nltk\n",
    "import string\n",
    "import os\n",
    "import matplotlib.pyplot as plt\n",
    "import seaborn as sns\n",
    "from sklearn.feature_extraction.text import TfidfTransformer\n",
    "from sklearn.feature_extraction.text import TfidfVectorizer\n",
    "\n",
    "from sklearn.feature_extraction.text import CountVectorizer\n",
    "from sklearn.metrics import confusion_matrix\n",
    "from sklearn import metrics\n",
    "from sklearn.metrics import roc_curve, auc\n",
    "from nltk.stem.porter import PorterStemmer\n",
    "\n",
    "from sklearn.model_selection import train_test_split\n",
    "from sklearn.neighbors import KNeighborsClassifier\n",
    "from sklearn.metrics import accuracy_score\n",
    "from sklearn.model_selection import cross_val_score\n",
    "from collections import Counter\n",
    "from sklearn.metrics import accuracy_score\n",
    "from sklearn import model_selection"
   ]
  },
  {
   "cell_type": "code",
   "execution_count": 56,
   "id": "bb4a0771",
   "metadata": {},
   "outputs": [],
   "source": [
    "import warnings\n",
    "warnings.filterwarnings(\"ignore\")"
   ]
  },
  {
   "cell_type": "code",
   "execution_count": 57,
   "id": "395ac985",
   "metadata": {},
   "outputs": [],
   "source": [
    "data = pd.read_csv('datasets/IMDBDataset.csv')"
   ]
  },
  {
   "cell_type": "code",
   "execution_count": 58,
   "id": "e0661b2f",
   "metadata": {},
   "outputs": [
    {
     "data": {
      "text/plain": [
       "Index(['review', 'sentiment'], dtype='object')"
      ]
     },
     "execution_count": 58,
     "metadata": {},
     "output_type": "execute_result"
    }
   ],
   "source": [
    "data.columns"
   ]
  },
  {
   "cell_type": "code",
   "execution_count": 59,
   "id": "014e827d",
   "metadata": {},
   "outputs": [
    {
     "data": {
      "text/plain": [
       "(50000, 2)"
      ]
     },
     "execution_count": 59,
     "metadata": {},
     "output_type": "execute_result"
    }
   ],
   "source": [
    "data.shape"
   ]
  },
  {
   "cell_type": "code",
   "execution_count": 60,
   "id": "a9dc15c2",
   "metadata": {},
   "outputs": [
    {
     "data": {
      "text/html": [
       "<div>\n",
       "<style scoped>\n",
       "    .dataframe tbody tr th:only-of-type {\n",
       "        vertical-align: middle;\n",
       "    }\n",
       "\n",
       "    .dataframe tbody tr th {\n",
       "        vertical-align: top;\n",
       "    }\n",
       "\n",
       "    .dataframe thead th {\n",
       "        text-align: right;\n",
       "    }\n",
       "</style>\n",
       "<table border=\"1\" class=\"dataframe\">\n",
       "  <thead>\n",
       "    <tr style=\"text-align: right;\">\n",
       "      <th></th>\n",
       "      <th>review</th>\n",
       "      <th>sentiment</th>\n",
       "    </tr>\n",
       "  </thead>\n",
       "  <tbody>\n",
       "    <tr>\n",
       "      <th>0</th>\n",
       "      <td>One of the other reviewers has mentioned that ...</td>\n",
       "      <td>positive</td>\n",
       "    </tr>\n",
       "    <tr>\n",
       "      <th>1</th>\n",
       "      <td>A wonderful little production. &lt;br /&gt;&lt;br /&gt;The...</td>\n",
       "      <td>positive</td>\n",
       "    </tr>\n",
       "    <tr>\n",
       "      <th>2</th>\n",
       "      <td>I thought this was a wonderful way to spend ti...</td>\n",
       "      <td>positive</td>\n",
       "    </tr>\n",
       "    <tr>\n",
       "      <th>3</th>\n",
       "      <td>Basically there's a family where a little boy ...</td>\n",
       "      <td>negative</td>\n",
       "    </tr>\n",
       "    <tr>\n",
       "      <th>4</th>\n",
       "      <td>Petter Mattei's \"Love in the Time of Money\" is...</td>\n",
       "      <td>positive</td>\n",
       "    </tr>\n",
       "  </tbody>\n",
       "</table>\n",
       "</div>"
      ],
      "text/plain": [
       "                                              review sentiment\n",
       "0  One of the other reviewers has mentioned that ...  positive\n",
       "1  A wonderful little production. <br /><br />The...  positive\n",
       "2  I thought this was a wonderful way to spend ti...  positive\n",
       "3  Basically there's a family where a little boy ...  negative\n",
       "4  Petter Mattei's \"Love in the Time of Money\" is...  positive"
      ]
     },
     "execution_count": 60,
     "metadata": {},
     "output_type": "execute_result"
    }
   ],
   "source": [
    "data.head()"
   ]
  },
  {
   "cell_type": "markdown",
   "id": "4c2cf06d",
   "metadata": {},
   "source": [
    "### Data Preprocessing:\n"
   ]
  },
  {
   "cell_type": "code",
   "execution_count": 61,
   "id": "3b719aad",
   "metadata": {},
   "outputs": [],
   "source": [
    "import re\n",
    "import string\n",
    "from nltk.corpus import stopwords\n",
    "from nltk.stem import PorterStemmer\n",
    "from nltk.stem.wordnet import WordNetLemmatizer\n",
    "\n",
    "stop = set(stopwords.words('english')) \n",
    "sno = nltk.stem.SnowballStemmer('english') \n",
    "\n",
    "def cleanhtml(sentence): \n",
    "    cleanr = re.compile('<.*?>')\n",
    "    cleantext = re.sub(cleanr, ' ', sentence)\n",
    "    return cleantext\n",
    "def cleanpunc(sentence): \n",
    "    cleaned = re.sub(r'[?|!|\\'|\"|#]',r'',sentence)\n",
    "    cleaned = re.sub(r'[.|,|)|(|\\|/]',r' ',cleaned)\n",
    "    return  cleaned"
   ]
  },
  {
   "cell_type": "code",
   "execution_count": null,
   "id": "99c733f2",
   "metadata": {},
   "outputs": [],
   "source": [
    "i=0\n",
    "str1=' '\n",
    "final_string=[]\n",
    "all_positive_words=[] \n",
    "all_negative_words=[] \n",
    "s=''\n",
    "for sent in data['review'].values:\n",
    "    filtered_sentence=[]\n",
    "    sent=cleanhtml(sent) \n",
    "    for w in sent.split():\n",
    "        for cleaned_words in cleanpunc(w).split():\n",
    "            if((cleaned_words.isalpha()) & (len(cleaned_words)>2)):    \n",
    "                if(cleaned_words.lower() not in stop):\n",
    "                    s=(sno.stem(cleaned_words.lower())).encode('utf8')\n",
    "                    filtered_sentence.append(s)\n",
    "                    if (data['sentiment'].values)[i] == \"positive\": \n",
    "                        all_positive_words.append(s) \n",
    "                    if(data['sentiment'].values)[i] == \"negative\":\n",
    "                        all_negative_words.append(s) \n",
    "                else:\n",
    "                    continue\n",
    "            else:\n",
    "                continue \n",
    "    \n",
    "    str1 = b\" \".join(filtered_sentence) \n",
    "    \n",
    "    final_string.append(str1)\n",
    "    i+=1"
   ]
  },
  {
   "cell_type": "code",
   "execution_count": 9,
   "id": "62f15238",
   "metadata": {},
   "outputs": [],
   "source": [
    "data['cleaned_review']=final_string"
   ]
  },
  {
   "cell_type": "code",
   "execution_count": 15,
   "id": "ad95cab0",
   "metadata": {},
   "outputs": [],
   "source": [
    "def posneg(x):\n",
    "    if x==\"negative\":\n",
    "        return 0\n",
    "    elif x==\"positive\":\n",
    "        return 1\n",
    "    return x\n",
    "\n",
    "filtered_score = data[\"sentiment\"].map(posneg)\n",
    "data[\"score\"] = filtered_score"
   ]
  },
  {
   "cell_type": "code",
   "execution_count": 16,
   "id": "481c827a",
   "metadata": {},
   "outputs": [],
   "source": [
    "test_data = data[:25000]\n",
    "train_data = data[25000:50000]"
   ]
  },
  {
   "cell_type": "code",
   "execution_count": 17,
   "id": "141fbcdf",
   "metadata": {},
   "outputs": [],
   "source": [
    "X_train = train_data[\"cleaned_review\"]\n",
    "y_train = train_data[\"score\"]\n",
    "\n",
    "X_test = test_data[\"cleaned_review\"]\n",
    "y_test = test_data[\"score\"]"
   ]
  },
  {
   "cell_type": "code",
   "execution_count": 18,
   "id": "1cf55ba4",
   "metadata": {},
   "outputs": [],
   "source": [
    "y_train=y_train.astype('int')\n",
    "y_test=y_test.astype('int')"
   ]
  },
  {
   "cell_type": "markdown",
   "id": "8b41c27f",
   "metadata": {},
   "source": [
    "### Data Representation:"
   ]
  },
  {
   "cell_type": "code",
   "execution_count": 19,
   "id": "2835ed74",
   "metadata": {},
   "outputs": [],
   "source": [
    "tf_idf_vect = TfidfVectorizer(ngram_range=(1,2))\n",
    "tf_idf_train = tf_idf_vect.fit_transform(X_train.values)\n",
    "tf_idf_test = tf_idf_vect.transform(X_test.values)"
   ]
  },
  {
   "cell_type": "markdown",
   "id": "20f8cc0a",
   "metadata": {},
   "source": [
    "### Naive Bayes:"
   ]
  },
  {
   "cell_type": "code",
   "execution_count": 20,
   "id": "7ebf6332",
   "metadata": {},
   "outputs": [
    {
     "data": {
      "text/plain": [
       "10"
      ]
     },
     "execution_count": 20,
     "metadata": {},
     "output_type": "execute_result"
    }
   ],
   "source": [
    "alpha_range = list(np.arange(1,50,5))\n",
    "len(alpha_range)"
   ]
  },
  {
   "cell_type": "code",
   "execution_count": 21,
   "id": "699b17f9",
   "metadata": {},
   "outputs": [
    {
     "name": "stdout",
     "output_type": "stream",
     "text": [
      "1 0.87836\n",
      "6 0.8668799999999999\n",
      "11 0.8626400000000001\n",
      "16 0.85924\n",
      "21 0.8562799999999999\n",
      "26 0.8535599999999999\n",
      "31 0.85176\n",
      "36 0.8507999999999999\n",
      "41 0.85036\n",
      "46 0.8492799999999999\n"
     ]
    }
   ],
   "source": [
    "from sklearn.naive_bayes import MultinomialNB\n",
    "\n",
    "alpha_scores=[]\n",
    "\n",
    "for a in alpha_range:\n",
    "    clf = MultinomialNB(alpha=a)\n",
    "    scores = cross_val_score(clf, tf_idf_train, y_train, cv=5, scoring='accuracy')\n",
    "    alpha_scores.append(scores.mean())\n",
    "    print(a,scores.mean())"
   ]
  },
  {
   "cell_type": "code",
   "execution_count": 22,
   "id": "1418e8ce",
   "metadata": {},
   "outputs": [
    {
     "data": {
      "image/png": "[encoded data removed]",
      "text/plain": [
       "<Figure size 432x288 with 1 Axes>"
      ]
     },
     "metadata": {
      "needs_background": "light"
     },
     "output_type": "display_data"
    }
   ],
   "source": [
    "MSE = [1 - x for x in alpha_scores]\n",
    "\n",
    "\n",
    "optimal_alpha_bnb = alpha_range[MSE.index(min(MSE))]\n",
    "\n",
    "# plot misclassification error vs alpha\n",
    "plt.plot(alpha_range, MSE)\n",
    "\n",
    "plt.xlabel('hyperparameter alpha')\n",
    "plt.ylabel('Misclassification Error')\n",
    "plt.show()"
   ]
  },
  {
   "cell_type": "code",
   "execution_count": 23,
   "id": "b9ed8fd0",
   "metadata": {},
   "outputs": [
    {
     "data": {
      "text/plain": [
       "1"
      ]
     },
     "execution_count": 23,
     "metadata": {},
     "output_type": "execute_result"
    }
   ],
   "source": [
    "optimal_alpha_bnb"
   ]
  },
  {
   "cell_type": "code",
   "execution_count": 24,
   "id": "cce82a0c",
   "metadata": {},
   "outputs": [
    {
     "data": {
      "text/plain": [
       "MultinomialNB(alpha=6)"
      ]
     },
     "execution_count": 24,
     "metadata": {},
     "output_type": "execute_result"
    }
   ],
   "source": [
    "clf = MultinomialNB(alpha=6)\n",
    "clf.fit(tf_idf_train,y_train)"
   ]
  },
  {
   "cell_type": "code",
   "execution_count": 25,
   "id": "8d8aa138",
   "metadata": {},
   "outputs": [],
   "source": [
    "y_pred_test = clf.predict(tf_idf_test)"
   ]
  },
  {
   "cell_type": "code",
   "execution_count": 26,
   "id": "e039f299",
   "metadata": {},
   "outputs": [
    {
     "name": "stdout",
     "output_type": "stream",
     "text": [
      "\n",
      "****Test accuracy is 87.236\n"
     ]
    }
   ],
   "source": [
    "acc = accuracy_score(y_test, y_pred_test, normalize=True) * float(100)\n",
    "print('\\n****Test accuracy is',(acc))"
   ]
  },
  {
   "cell_type": "code",
   "execution_count": 27,
   "id": "f24531e1",
   "metadata": {},
   "outputs": [
    {
     "data": {
      "text/plain": [
       "array([[11146,  1380],\n",
       "       [ 1811, 10663]], dtype=int64)"
      ]
     },
     "execution_count": 27,
     "metadata": {},
     "output_type": "execute_result"
    }
   ],
   "source": [
    "cm_test = confusion_matrix(y_test,y_pred_test)\n",
    "cm_test"
   ]
  },
  {
   "cell_type": "code",
   "execution_count": 28,
   "id": "457ce737",
   "metadata": {},
   "outputs": [
    {
     "data": {
      "text/plain": [
       "<AxesSubplot:>"
      ]
     },
     "execution_count": 28,
     "metadata": {},
     "output_type": "execute_result"
    },
    {
     "data": {
      "image/png": "[encoded data removed]",
      "text/plain": [
       "<Figure size 432x288 with 2 Axes>"
      ]
     },
     "metadata": {
      "needs_background": "light"
     },
     "output_type": "display_data"
    }
   ],
   "source": [
    "import seaborn as sns\n",
    "sns.heatmap(cm_test,annot=True,fmt='d')"
   ]
  },
  {
   "cell_type": "code",
   "execution_count": 29,
   "id": "990468e9",
   "metadata": {},
   "outputs": [],
   "source": [
    "y_pred_train = clf.predict(tf_idf_train)"
   ]
  },
  {
   "cell_type": "code",
   "execution_count": 30,
   "id": "9bc63910",
   "metadata": {},
   "outputs": [
    {
     "name": "stdout",
     "output_type": "stream",
     "text": [
      "\n",
      "****Train accuracy is 93%\n"
     ]
    }
   ],
   "source": [
    "acc = accuracy_score(y_train, y_pred_train, normalize=True) * float(100)\n",
    "print('\\n****Train accuracy is %d%%' % (acc))"
   ]
  },
  {
   "cell_type": "code",
   "execution_count": 31,
   "id": "f9b7b525",
   "metadata": {},
   "outputs": [
    {
     "data": {
      "text/plain": [
       "array([[11863,   611],\n",
       "       [  924, 11602]], dtype=int64)"
      ]
     },
     "execution_count": 31,
     "metadata": {},
     "output_type": "execute_result"
    }
   ],
   "source": [
    "cm_train = confusion_matrix(y_train,y_pred_train)\n",
    "cm_train"
   ]
  },
  {
   "cell_type": "code",
   "execution_count": 32,
   "id": "3a3850cc",
   "metadata": {},
   "outputs": [
    {
     "name": "stdout",
     "output_type": "stream",
     "text": [
      "total actual negative points 13401\n",
      "total actual positive points 11599\n"
     ]
    }
   ],
   "source": [
    "tn=11139;fn=1361;fp=2262;tp=10238;\n",
    "n=tn+fp\n",
    "p=fn+tp\n",
    "print(\"total actual negative points %d\"%(n))\n",
    "print(\"total actual positive points %d\"%(p))"
   ]
  },
  {
   "cell_type": "code",
   "execution_count": 33,
   "id": "6ac94b9e",
   "metadata": {},
   "outputs": [
    {
     "name": "stdout",
     "output_type": "stream",
     "text": [
      "TPR 0.882662\n",
      "TNR 0.831207\n",
      "FPR 0.168793\n",
      "FNR 0.117338\n"
     ]
    }
   ],
   "source": [
    "tpr=tp/p\n",
    "tnr=tn/n\n",
    "fpr=fp/n\n",
    "fnr=fn/p\n",
    "\n",
    "print(\"TPR %f\"%(tpr))\n",
    "print(\"TNR %f\"%(tnr))\n",
    "print(\"FPR %f\"%(fpr))\n",
    "print(\"FNR %f\"%(fnr))"
   ]
  },
  {
   "cell_type": "code",
   "execution_count": 34,
   "id": "848e7f08",
   "metadata": {},
   "outputs": [
    {
     "name": "stdout",
     "output_type": "stream",
     "text": [
      "Precision 0.81904\n",
      "Recall 0.8826622984740063\n",
      "f1-score 0.8496618116934312\n"
     ]
    }
   ],
   "source": [
    "precision=tp/(tp+fp)\n",
    "print(\"Precision\",precision)\n",
    "recall = tp/p\n",
    "print(\"Recall\",recall)\n",
    "f1 = 2*((precision*recall)/(precision+recall))\n",
    "print(\"f1-score\",f1)"
   ]
  },
  {
   "cell_type": "code",
   "execution_count": null,
   "id": "55a85ad8",
   "metadata": {},
   "outputs": [],
   "source": []
  },
  {
   "cell_type": "code",
   "execution_count": 35,
   "id": "0756a89a",
   "metadata": {},
   "outputs": [
    {
     "name": "stdout",
     "output_type": "stream",
     "text": [
      "2923508\n",
      "2848517\n"
     ]
    }
   ],
   "source": [
    "total_positive_words = len(all_positive_words)\n",
    "total_negative_words = len(all_negative_words)\n",
    "print(total_positive_words)\n",
    "print(total_negative_words)"
   ]
  },
  {
   "cell_type": "code",
   "execution_count": 36,
   "id": "66e9f091",
   "metadata": {},
   "outputs": [
    {
     "data": {
      "text/plain": [
       "list"
      ]
     },
     "execution_count": 36,
     "metadata": {},
     "output_type": "execute_result"
    }
   ],
   "source": [
    "type(all_positive_words)"
   ]
  },
  {
   "cell_type": "code",
   "execution_count": 37,
   "id": "367df5ff",
   "metadata": {},
   "outputs": [],
   "source": [
    "import random\n",
    "apw = random.sample(all_positive_words, 10000)\n",
    "anw = random.sample(all_negative_words, 10000)"
   ]
  },
  {
   "cell_type": "code",
   "execution_count": 38,
   "id": "bd25b472",
   "metadata": {},
   "outputs": [],
   "source": [
    "freq_negative_words = {x:anw.count(x) for x in anw}"
   ]
  },
  {
   "cell_type": "code",
   "execution_count": 39,
   "id": "0d5189ed",
   "metadata": {},
   "outputs": [],
   "source": [
    "freq_positive_words = {x:apw.count(x) for x in apw}"
   ]
  },
  {
   "cell_type": "code",
   "execution_count": 40,
   "id": "34e4b60b",
   "metadata": {},
   "outputs": [],
   "source": [
    "lst=[]\n",
    "for key in freq_positive_words:\n",
    "    prob = freq_positive_words[key]/total_positive_words\n",
    "    lst.append([key,prob])\n",
    "table_positive = pd.DataFrame(lst,columns=['positive_words','probability'])"
   ]
  },
  {
   "cell_type": "code",
   "execution_count": 41,
   "id": "bb907744",
   "metadata": {},
   "outputs": [],
   "source": [
    "table_positive = table_positive.sort_values('probability', axis=0, ascending=False, inplace=False, kind='quicksort', na_position='last')\n"
   ]
  },
  {
   "cell_type": "code",
   "execution_count": 42,
   "id": "7bca9cf3",
   "metadata": {},
   "outputs": [
    {
     "data": {
      "text/html": [
       "<div>\n",
       "<style scoped>\n",
       "    .dataframe tbody tr th:only-of-type {\n",
       "        vertical-align: middle;\n",
       "    }\n",
       "\n",
       "    .dataframe tbody tr th {\n",
       "        vertical-align: top;\n",
       "    }\n",
       "\n",
       "    .dataframe thead th {\n",
       "        text-align: right;\n",
       "    }\n",
       "</style>\n",
       "<table border=\"1\" class=\"dataframe\">\n",
       "  <thead>\n",
       "    <tr style=\"text-align: right;\">\n",
       "      <th></th>\n",
       "      <th>positive_words</th>\n",
       "      <th>probability</th>\n",
       "    </tr>\n",
       "  </thead>\n",
       "  <tbody>\n",
       "    <tr>\n",
       "      <th>69</th>\n",
       "      <td>b'film'</td>\n",
       "      <td>0.000060</td>\n",
       "    </tr>\n",
       "    <tr>\n",
       "      <th>60</th>\n",
       "      <td>b'movi'</td>\n",
       "      <td>0.000053</td>\n",
       "    </tr>\n",
       "    <tr>\n",
       "      <th>65</th>\n",
       "      <td>b'one'</td>\n",
       "      <td>0.000034</td>\n",
       "    </tr>\n",
       "    <tr>\n",
       "      <th>195</th>\n",
       "      <td>b'like'</td>\n",
       "      <td>0.000027</td>\n",
       "    </tr>\n",
       "    <tr>\n",
       "      <th>0</th>\n",
       "      <td>b'see'</td>\n",
       "      <td>0.000022</td>\n",
       "    </tr>\n",
       "    <tr>\n",
       "      <th>16</th>\n",
       "      <td>b'great'</td>\n",
       "      <td>0.000016</td>\n",
       "    </tr>\n",
       "    <tr>\n",
       "      <th>161</th>\n",
       "      <td>b'make'</td>\n",
       "      <td>0.000016</td>\n",
       "    </tr>\n",
       "    <tr>\n",
       "      <th>138</th>\n",
       "      <td>b'good'</td>\n",
       "      <td>0.000016</td>\n",
       "    </tr>\n",
       "    <tr>\n",
       "      <th>377</th>\n",
       "      <td>b'get'</td>\n",
       "      <td>0.000016</td>\n",
       "    </tr>\n",
       "    <tr>\n",
       "      <th>91</th>\n",
       "      <td>b'charact'</td>\n",
       "      <td>0.000015</td>\n",
       "    </tr>\n",
       "  </tbody>\n",
       "</table>\n",
       "</div>"
      ],
      "text/plain": [
       "    positive_words  probability\n",
       "69         b'film'     0.000060\n",
       "60         b'movi'     0.000053\n",
       "65          b'one'     0.000034\n",
       "195        b'like'     0.000027\n",
       "0           b'see'     0.000022\n",
       "16        b'great'     0.000016\n",
       "161        b'make'     0.000016\n",
       "138        b'good'     0.000016\n",
       "377         b'get'     0.000016\n",
       "91      b'charact'     0.000015"
      ]
     },
     "execution_count": 42,
     "metadata": {},
     "output_type": "execute_result"
    }
   ],
   "source": [
    "table_positive.head(10)\n"
   ]
  },
  {
   "cell_type": "code",
   "execution_count": 45,
   "id": "9759579f",
   "metadata": {},
   "outputs": [
    {
     "data": {
      "text/plain": [
       "{b'film': 175,\n",
       " b'movi': 156,\n",
       " b'one': 98,\n",
       " b'like': 79,\n",
       " b'see': 63,\n",
       " b'great': 47,\n",
       " b'make': 47,\n",
       " b'good': 46,\n",
       " b'get': 46,\n",
       " b'stori': 45,\n",
       " b'love': 45}"
      ]
     },
     "execution_count": 45,
     "metadata": {},
     "output_type": "execute_result"
    }
   ],
   "source": [
    "from operator import itemgetter\n",
    "\n",
    "posi={}\n",
    "i=0\n",
    "for key, value in sorted(freq_positive_words.items(), key = itemgetter(1), reverse = True):\n",
    "    if(i>10):\n",
    "        break\n",
    "    posi[key]=value\n",
    "    i+=1\n",
    "posi"
   ]
  },
  {
   "cell_type": "code",
   "execution_count": 46,
   "id": "b93f3372",
   "metadata": {},
   "outputs": [],
   "source": [
    "lst=[]\n",
    "for key in freq_negative_words:\n",
    "    prob = freq_negative_words[key]/total_negative_words\n",
    "    lst.append([key,prob])\n",
    "table_negative = pd.DataFrame(lst,columns=['negative_words','probability'])"
   ]
  },
  {
   "cell_type": "code",
   "execution_count": 47,
   "id": "c2bf9998",
   "metadata": {},
   "outputs": [],
   "source": [
    "table_negative = table_negative.sort_values('probability', axis=0, ascending=False, inplace=False, kind='quicksort', na_position='last')\n"
   ]
  },
  {
   "cell_type": "code",
   "execution_count": 48,
   "id": "48e8ffc0",
   "metadata": {},
   "outputs": [
    {
     "data": {
      "text/html": [
       "<div>\n",
       "<style scoped>\n",
       "    .dataframe tbody tr th:only-of-type {\n",
       "        vertical-align: middle;\n",
       "    }\n",
       "\n",
       "    .dataframe tbody tr th {\n",
       "        vertical-align: top;\n",
       "    }\n",
       "\n",
       "    .dataframe thead th {\n",
       "        text-align: right;\n",
       "    }\n",
       "</style>\n",
       "<table border=\"1\" class=\"dataframe\">\n",
       "  <thead>\n",
       "    <tr style=\"text-align: right;\">\n",
       "      <th></th>\n",
       "      <th>negative_words</th>\n",
       "      <th>probability</th>\n",
       "    </tr>\n",
       "  </thead>\n",
       "  <tbody>\n",
       "    <tr>\n",
       "      <th>11</th>\n",
       "      <td>b'movi'</td>\n",
       "      <td>0.000076</td>\n",
       "    </tr>\n",
       "    <tr>\n",
       "      <th>209</th>\n",
       "      <td>b'film'</td>\n",
       "      <td>0.000054</td>\n",
       "    </tr>\n",
       "    <tr>\n",
       "      <th>363</th>\n",
       "      <td>b'like'</td>\n",
       "      <td>0.000031</td>\n",
       "    </tr>\n",
       "    <tr>\n",
       "      <th>55</th>\n",
       "      <td>b'one'</td>\n",
       "      <td>0.000031</td>\n",
       "    </tr>\n",
       "    <tr>\n",
       "      <th>158</th>\n",
       "      <td>b'would'</td>\n",
       "      <td>0.000023</td>\n",
       "    </tr>\n",
       "    <tr>\n",
       "      <th>174</th>\n",
       "      <td>b'even'</td>\n",
       "      <td>0.000021</td>\n",
       "    </tr>\n",
       "    <tr>\n",
       "      <th>290</th>\n",
       "      <td>b'good'</td>\n",
       "      <td>0.000019</td>\n",
       "    </tr>\n",
       "    <tr>\n",
       "      <th>51</th>\n",
       "      <td>b'get'</td>\n",
       "      <td>0.000019</td>\n",
       "    </tr>\n",
       "    <tr>\n",
       "      <th>37</th>\n",
       "      <td>b'time'</td>\n",
       "      <td>0.000019</td>\n",
       "    </tr>\n",
       "    <tr>\n",
       "      <th>25</th>\n",
       "      <td>b'bad'</td>\n",
       "      <td>0.000019</td>\n",
       "    </tr>\n",
       "  </tbody>\n",
       "</table>\n",
       "</div>"
      ],
      "text/plain": [
       "    negative_words  probability\n",
       "11         b'movi'     0.000076\n",
       "209        b'film'     0.000054\n",
       "363        b'like'     0.000031\n",
       "55          b'one'     0.000031\n",
       "158       b'would'     0.000023\n",
       "174        b'even'     0.000021\n",
       "290        b'good'     0.000019\n",
       "51          b'get'     0.000019\n",
       "37         b'time'     0.000019\n",
       "25          b'bad'     0.000019"
      ]
     },
     "execution_count": 48,
     "metadata": {},
     "output_type": "execute_result"
    }
   ],
   "source": [
    "table_negative.head(10)\n"
   ]
  },
  {
   "cell_type": "code",
   "execution_count": 49,
   "id": "7246fbf9",
   "metadata": {},
   "outputs": [
    {
     "data": {
      "text/plain": [
       "{b'movi': 217,\n",
       " b'film': 153,\n",
       " b'like': 88,\n",
       " b'one': 87,\n",
       " b'would': 65,\n",
       " b'even': 59,\n",
       " b'good': 55,\n",
       " b'get': 54,\n",
       " b'bad': 53,\n",
       " b'time': 53,\n",
       " b'charact': 46}"
      ]
     },
     "execution_count": 49,
     "metadata": {},
     "output_type": "execute_result"
    }
   ],
   "source": [
    "nega={}\n",
    "i=0\n",
    "for key, value in sorted(freq_negative_words.items(), key = itemgetter(1), reverse = True):\n",
    "    if(i>10):\n",
    "        break\n",
    "    nega[key]=value\n",
    "    i+=1\n",
    "nega"
   ]
  },
  {
   "cell_type": "code",
   "execution_count": 50,
   "id": "4107ce96",
   "metadata": {},
   "outputs": [
    {
     "name": "stdout",
     "output_type": "stream",
     "text": [
      "BARPLOT FOR most frequent negative words\n"
     ]
    },
    {
     "data": {
      "image/png": "[encoded data removed]",
      "text/plain": [
       "<Figure size 432x288 with 1 Axes>"
      ]
     },
     "metadata": {
      "needs_background": "light"
     },
     "output_type": "display_data"
    }
   ],
   "source": [
    "plt.bar(range(len(nega)), list(nega.values()), align='center')\n",
    "plt.xticks(range(len(nega)), list(nega.keys()))\n",
    "\n",
    "print(\"BARPLOT FOR most frequent negative words\")\n",
    "plt.show()"
   ]
  },
  {
   "cell_type": "code",
   "execution_count": 51,
   "id": "f5403183",
   "metadata": {},
   "outputs": [
    {
     "name": "stdout",
     "output_type": "stream",
     "text": [
      "BARPLOT FOR most frequent positive words\n"
     ]
    },
    {
     "data": {
      "image/png": "[encoded data removed]",
      "text/plain": [
       "<Figure size 432x288 with 1 Axes>"
      ]
     },
     "metadata": {
      "needs_background": "light"
     },
     "output_type": "display_data"
    }
   ],
   "source": [
    "plt.bar(range(len(posi)), list(posi.values()), align='center')\n",
    "plt.xticks(range(len(posi)), list(posi.keys()))\n",
    "\n",
    "print(\"BARPLOT FOR most frequent positive words\")\n",
    "plt.show()"
   ]
  }
 ],
 "metadata": {
  "kernelspec": {
   "display_name": "Python 3",
   "language": "python",
   "name": "python3"
  },
  "language_info": {
   "codemirror_mode": {
    "name": "ipython",
    "version": 3
   },
   "file_extension": ".py",
   "mimetype": "text/x-python",
   "name": "python",
   "nbconvert_exporter": "python",
   "pygments_lexer": "ipython3",
   "version": "3.8.8"
  }
 },
 "nbformat": 4,
 "nbformat_minor": 5
}
