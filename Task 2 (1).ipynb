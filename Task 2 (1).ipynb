{
 "cells": [
  {
   "cell_type": "markdown",
   "id": "38148ee1",
   "metadata": {},
   "source": [
    "### import libraries"
   ]
  },
  {
   "cell_type": "code",
   "execution_count": 1,
   "id": "f13c6c1a",
   "metadata": {},
   "outputs": [],
   "source": [
    "import tensorflow as tf\n",
    "\n",
    "from keras.datasets import cifar10\n",
    "from keras.models import Sequential\n",
    "from keras.layers import Conv2D, MaxPooling2D, Flatten, Dense, Dropout\n",
    "import numpy as np\n",
    "import pandas as pd"
   ]
  },
  {
   "cell_type": "code",
   "execution_count": 2,
   "id": "40803b62",
   "metadata": {},
   "outputs": [],
   "source": [
    "(x_train, y_train), (x_test, y_test) = cifar10.load_data()\n",
    "\n",
    "x_train = x_train.astype('float32') / 255.0\n",
    "x_test = x_test.astype('float32') / 255.0\n",
    "\n",
    "y_train = tf.keras.utils.to_categorical(y_train, num_classes=10)\n",
    "y_test = tf.keras.utils.to_categorical(y_test, num_classes=10)"
   ]
  },
  {
   "cell_type": "code",
   "execution_count": 3,
   "id": "35a78251",
   "metadata": {},
   "outputs": [],
   "source": [
    "split_ratio = 0.8\n",
    "split_index = int(len(x_train) * split_ratio)\n",
    "\n",
    "x_train_split = x_train[:split_index]\n",
    "y_train_split = y_train[:split_index]\n",
    "\n",
    "x_val = x_train[split_index:]\n",
    "y_val = y_train[split_index:]"
   ]
  },
  {
   "cell_type": "code",
   "execution_count": 4,
   "id": "c443fe45",
   "metadata": {},
   "outputs": [
    {
     "name": "stdout",
     "output_type": "stream",
     "text": [
      "Downloading data from https://storage.googleapis.com/tensorflow/keras-applications/vgg16/vgg16_weights_tf_dim_ordering_tf_kernels_notop.h5\n",
      "58892288/58889256 [==============================] - ETA:  - 18s 0us/step\n"
     ]
    }
   ],
   "source": [
    "from keras.applications import VGG16\n",
    "base_model = VGG16(weights='imagenet', include_top=False, input_shape=(32, 32, 3))"
   ]
  },
  {
   "cell_type": "code",
   "execution_count": 5,
   "id": "49b39c1e",
   "metadata": {},
   "outputs": [],
   "source": [
    "for layer in base_model.layers:\n",
    "    layer.trainable = False"
   ]
  },
  {
   "cell_type": "code",
   "execution_count": 6,
   "id": "138250f7",
   "metadata": {},
   "outputs": [],
   "source": [
    "model = Sequential()\n",
    "model.add(base_model)\n",
    "model.add(Flatten())\n",
    "model.add(Dense(256, activation='relu'))\n",
    "model.add(Dropout(0.5))\n",
    "model.add(Dense(10, activation='softmax'))"
   ]
  },
  {
   "cell_type": "code",
   "execution_count": 7,
   "id": "a742e7c9",
   "metadata": {},
   "outputs": [],
   "source": [
    "from keras.optimizers import Adam\n",
    "model.compile(optimizer=Adam(lr=0.001), loss='categorical_crossentropy', metrics=['accuracy'])"
   ]
  },
  {
   "cell_type": "code",
   "execution_count": 8,
   "id": "2c5babc5",
   "metadata": {},
   "outputs": [
    {
     "name": "stdout",
     "output_type": "stream",
     "text": [
      "Epoch 1/10\n",
      "313/313 [==============================] - 109s 348ms/step - loss: 1.5984 - accuracy: 0.4396 - val_loss: 1.3172 - val_accuracy: 0.5446\n",
      "Epoch 2/10\n",
      "313/313 [==============================] - 120s 384ms/step - loss: 1.3462 - accuracy: 0.5282 - val_loss: 1.2520 - val_accuracy: 0.5637\n",
      "Epoch 3/10\n",
      "313/313 [==============================] - 115s 368ms/step - loss: 1.2713 - accuracy: 0.5545 - val_loss: 1.2016 - val_accuracy: 0.5824\n",
      "Epoch 4/10\n",
      "313/313 [==============================] - 116s 372ms/step - loss: 1.2304 - accuracy: 0.5707 - val_loss: 1.1724 - val_accuracy: 0.5902\n",
      "Epoch 5/10\n",
      "313/313 [==============================] - 122s 391ms/step - loss: 1.2046 - accuracy: 0.5780 - val_loss: 1.1633 - val_accuracy: 0.5943\n",
      "Epoch 6/10\n",
      "313/313 [==============================] - 117s 373ms/step - loss: 1.1792 - accuracy: 0.5900 - val_loss: 1.1545 - val_accuracy: 0.5990\n",
      "Epoch 7/10\n",
      "313/313 [==============================] - 114s 366ms/step - loss: 1.1583 - accuracy: 0.5967 - val_loss: 1.1413 - val_accuracy: 0.5993\n",
      "Epoch 8/10\n",
      "313/313 [==============================] - 116s 372ms/step - loss: 1.1439 - accuracy: 0.5990 - val_loss: 1.1345 - val_accuracy: 0.6033\n",
      "Epoch 9/10\n",
      "313/313 [==============================] - 115s 367ms/step - loss: 1.1236 - accuracy: 0.6057 - val_loss: 1.1380 - val_accuracy: 0.6018\n",
      "Epoch 10/10\n",
      "313/313 [==============================] - 116s 370ms/step - loss: 1.1093 - accuracy: 0.6125 - val_loss: 1.1198 - val_accuracy: 0.6096\n"
     ]
    }
   ],
   "source": [
    "batch_size = 128\n",
    "epochs = 10\n",
    "history=model.fit(x_train, y_train, batch_size=batch_size, epochs=epochs, validation_split=0.2)"
   ]
  },
  {
   "cell_type": "code",
   "execution_count": 9,
   "id": "d1da537f",
   "metadata": {},
   "outputs": [
    {
     "name": "stdout",
     "output_type": "stream",
     "text": [
      "313/313 [==============================] - 23s 75ms/step - loss: 1.1280 - accuracy: 0.6030\n",
      "Test Loss: 1.1280\n",
      "Test Accuracy: 60.30%\n"
     ]
    }
   ],
   "source": [
    "loss, accuracy = model.evaluate(x_test, y_test)\n",
    "print(f\"Test Loss: {loss:.4f}\")\n",
    "print(f\"Test Accuracy: {accuracy*100:.2f}%\")"
   ]
  },
  {
   "cell_type": "code",
   "execution_count": 10,
   "id": "cb8ea890",
   "metadata": {},
   "outputs": [
    {
     "data": {
      "image/png": "[encoded data removed]",
      "text/plain": [
       "<Figure size 432x288 with 1 Axes>"
      ]
     },
     "metadata": {
      "needs_background": "light"
     },
     "output_type": "display_data"
    }
   ],
   "source": [
    "import matplotlib.pyplot as plt\n",
    "\n",
    "plt.plot(history.history['accuracy'])\n",
    "plt.plot(history.history['val_accuracy'])\n",
    "plt.title('Model Accuracy')\n",
    "plt.xlabel('Epoch')\n",
    "plt.ylabel('Accuracy')\n",
    "plt.legend(['Train', 'Validation'], loc='upper left')\n",
    "plt.show()"
   ]
  },
  {
   "cell_type": "code",
   "execution_count": 11,
   "id": "4f7860f7",
   "metadata": {},
   "outputs": [
    {
     "name": "stdout",
     "output_type": "stream",
     "text": [
      "Epoch 1/10\n",
      "313/313 [==============================] - 50s 160ms/step - loss: 1.7675 - accuracy: 0.3516 - val_loss: 1.4309 - val_accuracy: 0.4990\n",
      "Epoch 2/10\n",
      "313/313 [==============================] - 49s 157ms/step - loss: 1.4414 - accuracy: 0.4783 - val_loss: 1.2385 - val_accuracy: 0.5681\n",
      "Epoch 3/10\n",
      "313/313 [==============================] - 50s 159ms/step - loss: 1.3072 - accuracy: 0.5312 - val_loss: 1.1205 - val_accuracy: 0.6120\n",
      "Epoch 4/10\n",
      "313/313 [==============================] - 49s 158ms/step - loss: 1.2069 - accuracy: 0.5670 - val_loss: 1.1281 - val_accuracy: 0.6056\n",
      "Epoch 5/10\n",
      "313/313 [==============================] - 50s 158ms/step - loss: 1.1428 - accuracy: 0.5919 - val_loss: 1.0210 - val_accuracy: 0.6443\n",
      "Epoch 6/10\n",
      "313/313 [==============================] - 50s 159ms/step - loss: 1.0852 - accuracy: 0.6105 - val_loss: 0.9891 - val_accuracy: 0.6546\n",
      "Epoch 7/10\n",
      "313/313 [==============================] - 51s 162ms/step - loss: 1.0441 - accuracy: 0.6252 - val_loss: 0.9611 - val_accuracy: 0.6619\n",
      "Epoch 8/10\n",
      "313/313 [==============================] - 50s 159ms/step - loss: 1.0023 - accuracy: 0.6414 - val_loss: 0.9462 - val_accuracy: 0.6653\n",
      "Epoch 9/10\n",
      "313/313 [==============================] - 50s 159ms/step - loss: 0.9621 - accuracy: 0.6531 - val_loss: 0.9183 - val_accuracy: 0.6777\n",
      "Epoch 10/10\n",
      "313/313 [==============================] - 50s 160ms/step - loss: 0.9347 - accuracy: 0.6618 - val_loss: 0.9309 - val_accuracy: 0.6756\n"
     ]
    },
    {
     "data": {
      "text/plain": [
       "<tensorflow.python.keras.callbacks.History at 0x2770fd98d60>"
      ]
     },
     "execution_count": 11,
     "metadata": {},
     "output_type": "execute_result"
    }
   ],
   "source": [
    "cnn_model = Sequential()\n",
    "cnn_model.add(Conv2D(32, (3, 3), activation='relu', input_shape=(32, 32, 3)))\n",
    "cnn_model.add(Conv2D(64, (3, 3), activation='relu'))\n",
    "cnn_model.add(MaxPooling2D(pool_size=(2, 2)))\n",
    "cnn_model.add(Dropout(0.25))\n",
    "cnn_model.add(Flatten())\n",
    "cnn_model.add(Dense(128, activation='relu'))\n",
    "cnn_model.add(Dropout(0.5))\n",
    "cnn_model.add(Dense(10, activation='softmax'))\n",
    "cnn_model.compile(optimizer='adam', loss='categorical_crossentropy', metrics=['accuracy'])\n",
    "cnn_model.fit(x_train, y_train, batch_size=128, epochs=10, validation_split=0.2)"
   ]
  },
  {
   "cell_type": "code",
   "execution_count": 12,
   "id": "9a2f0a26",
   "metadata": {},
   "outputs": [
    {
     "name": "stdout",
     "output_type": "stream",
     "text": [
      "313/313 [==============================] - 3s 9ms/step - loss: 0.9286 - accuracy: 0.6768\n",
      "CNN Model - Test Loss: 0.9286\n",
      "CNN Model - Test Accuracy: 67.68%\n"
     ]
    }
   ],
   "source": [
    "cnn_loss, cnn_accuracy = cnn_model.evaluate(x_test, y_test)\n",
    "print(f\"CNN Model - Test Loss: {cnn_loss:.4f}\")\n",
    "print(f\"CNN Model - Test Accuracy: {cnn_accuracy*100:.2f}%\")"
   ]
  },
  {
   "cell_type": "code",
   "execution_count": 13,
   "id": "0850d57c",
   "metadata": {},
   "outputs": [],
   "source": [
    "base_model = VGG16(weights='imagenet', include_top=False, input_shape=(32, 32, 3))\n",
    "for layer in base_model.layers:\n",
    "    layer.trainable = False"
   ]
  },
  {
   "cell_type": "code",
   "execution_count": 14,
   "id": "727f1a4f",
   "metadata": {},
   "outputs": [
    {
     "name": "stdout",
     "output_type": "stream",
     "text": [
      "Epoch 1/10\n",
      "313/313 [==============================] - 112s 358ms/step - loss: 1.6095 - accuracy: 0.4345 - val_loss: 1.3298 - val_accuracy: 0.5371\n",
      "Epoch 2/10\n",
      "313/313 [==============================] - 114s 364ms/step - loss: 1.3485 - accuracy: 0.5307 - val_loss: 1.2463 - val_accuracy: 0.5601\n",
      "Epoch 3/10\n",
      "313/313 [==============================] - 115s 367ms/step - loss: 1.2769 - accuracy: 0.5549 - val_loss: 1.2034 - val_accuracy: 0.5753\n",
      "Epoch 4/10\n",
      "313/313 [==============================] - 114s 365ms/step - loss: 1.2368 - accuracy: 0.5692 - val_loss: 1.1802 - val_accuracy: 0.5852\n",
      "Epoch 5/10\n",
      "313/313 [==============================] - 114s 363ms/step - loss: 1.2065 - accuracy: 0.5757 - val_loss: 1.1614 - val_accuracy: 0.5933\n",
      "Epoch 6/10\n",
      "313/313 [==============================] - 114s 363ms/step - loss: 1.1854 - accuracy: 0.5874 - val_loss: 1.1474 - val_accuracy: 0.5988\n",
      "Epoch 7/10\n",
      "313/313 [==============================] - 117s 373ms/step - loss: 1.1605 - accuracy: 0.5972 - val_loss: 1.1476 - val_accuracy: 0.6003\n",
      "Epoch 8/10\n",
      "313/313 [==============================] - 139s 443ms/step - loss: 1.1463 - accuracy: 0.6018 - val_loss: 1.1422 - val_accuracy: 0.5992\n",
      "Epoch 9/10\n",
      "313/313 [==============================] - 119s 381ms/step - loss: 1.1277 - accuracy: 0.6052 - val_loss: 1.1314 - val_accuracy: 0.6050\n",
      "Epoch 10/10\n",
      "313/313 [==============================] - 114s 366ms/step - loss: 1.1158 - accuracy: 0.6116 - val_loss: 1.1214 - val_accuracy: 0.6103\n"
     ]
    },
    {
     "data": {
      "text/plain": [
       "<tensorflow.python.keras.callbacks.History at 0x2770e515070>"
      ]
     },
     "execution_count": 14,
     "metadata": {},
     "output_type": "execute_result"
    }
   ],
   "source": [
    "transfer_model = Sequential()\n",
    "transfer_model.add(base_model)\n",
    "transfer_model.add(Flatten())\n",
    "transfer_model.add(Dense(256, activation='relu'))\n",
    "transfer_model.add(Dropout(0.5))\n",
    "transfer_model.add(Dense(10, activation='softmax'))\n",
    "transfer_model.compile(optimizer=Adam(lr=0.001), loss='categorical_crossentropy', metrics=['accuracy'])\n",
    "transfer_model.fit(x_train, y_train, batch_size=128, epochs=10, validation_split=0.2)"
   ]
  },
  {
   "cell_type": "code",
   "execution_count": 15,
   "id": "be6885c6",
   "metadata": {},
   "outputs": [
    {
     "name": "stdout",
     "output_type": "stream",
     "text": [
      "313/313 [==============================] - 24s 76ms/step - loss: 1.1329 - accuracy: 0.6006\n",
      "Transfer Learning Model - Test Loss: 1.1329\n",
      "Transfer Learning Model - Test Accuracy: 60.06%\n"
     ]
    }
   ],
   "source": [
    "transfer_loss, transfer_accuracy = transfer_model.evaluate(x_test, y_test)\n",
    "print(f\"Transfer Learning Model - Test Loss: {transfer_loss:.4f}\")\n",
    "print(f\"Transfer Learning Model - Test Accuracy: {transfer_accuracy*100:.2f}%\")"
   ]
  },
  {
   "cell_type": "code",
   "execution_count": 16,
   "id": "8771b679",
   "metadata": {},
   "outputs": [],
   "source": [
    "transfer_predictions = transfer_model.predict(x_test)\n",
    "transfer_labels = np.argmax(y_test, axis=1)\n",
    "transfer_predictions = np.argmax(transfer_predictions, axis=1)"
   ]
  },
  {
   "cell_type": "code",
   "execution_count": 17,
   "id": "0e394282",
   "metadata": {},
   "outputs": [
    {
     "name": "stdout",
     "output_type": "stream",
     "text": [
      "Requirement already satisfied: scikit-learn in c:\\users\\lalit\\anaconda3\\lib\\site-packages (0.24.1)\n",
      "Requirement already satisfied: joblib>=0.11 in c:\\users\\lalit\\anaconda3\\lib\\site-packages (from scikit-learn) (1.0.1)\n",
      "Requirement already satisfied: scipy>=0.19.1 in c:\\users\\lalit\\anaconda3\\lib\\site-packages (from scikit-learn) (1.6.2)\n",
      "Requirement already satisfied: numpy>=1.13.3 in c:\\users\\lalit\\anaconda3\\lib\\site-packages (from scikit-learn) (1.20.1)\n",
      "Requirement already satisfied: threadpoolctl>=2.0.0 in c:\\users\\lalit\\anaconda3\\lib\\site-packages (from scikit-learn) (2.1.0)\n"
     ]
    }
   ],
   "source": [
    "!pip install scikit-learn"
   ]
  },
  {
   "cell_type": "code",
   "execution_count": 18,
   "id": "73828392",
   "metadata": {},
   "outputs": [],
   "source": [
    "import sklearn\n",
    "from sklearn import metrics\n",
    "from sklearn.metrics import classification_report, confusion_matrix\n",
    "transfer_report = classification_report(transfer_labels, transfer_predictions)\n",
    "transfer_confusion = confusion_matrix(transfer_labels, transfer_predictions)"
   ]
  },
  {
   "cell_type": "code",
   "execution_count": 19,
   "id": "1801291f",
   "metadata": {},
   "outputs": [
    {
     "name": "stdout",
     "output_type": "stream",
     "text": [
      "Transfer Learning Model Evaluation Metrics:\n",
      "              precision    recall  f1-score   support\n",
      "\n",
      "           0       0.65      0.70      0.67      1000\n",
      "           1       0.64      0.69      0.66      1000\n",
      "           2       0.53      0.48      0.51      1000\n",
      "           3       0.43      0.44      0.44      1000\n",
      "           4       0.55      0.54      0.55      1000\n",
      "           5       0.56      0.48      0.52      1000\n",
      "           6       0.63      0.67      0.65      1000\n",
      "           7       0.70      0.62      0.65      1000\n",
      "           8       0.73      0.70      0.72      1000\n",
      "           9       0.58      0.68      0.63      1000\n",
      "\n",
      "    accuracy                           0.60     10000\n",
      "   macro avg       0.60      0.60      0.60     10000\n",
      "weighted avg       0.60      0.60      0.60     10000\n",
      "\n",
      "Transfer Learning Model Confusion Matrix:\n",
      "[[704  32  59  12  16  13   3  18  98  45]\n",
      " [ 38 686  15  33   5  15  19  15  40 134]\n",
      " [ 85  28 483  68 115  63  94  37  10  17]\n",
      " [ 30  47  70 443  56 139  95  29  19  72]\n",
      " [ 29  21  81  64 539  25 111  79  28  23]\n",
      " [ 13  23  64 216  66 481  35  58   6  38]\n",
      " [  8  33  65  81  62  38 674   3  10  26]\n",
      " [ 31  24  48  56  83  57  11 617  10  63]\n",
      " [101  62  13  20  15   5   9   4 703  68]\n",
      " [ 52 121   7  28  18  22  13  25  38 676]]\n"
     ]
    }
   ],
   "source": [
    "print(\"Transfer Learning Model Evaluation Metrics:\")\n",
    "print(transfer_report)\n",
    "print(\"Transfer Learning Model Confusion Matrix:\")\n",
    "print(transfer_confusion)"
   ]
  },
  {
   "cell_type": "code",
   "execution_count": 20,
   "id": "6c73c578",
   "metadata": {},
   "outputs": [],
   "source": [
    "cnn_predictions = cnn_model.predict(x_test)\n",
    "cnn_labels = np.argmax(y_test, axis=1)\n",
    "cnn_predictions = np.argmax(cnn_predictions, axis=1)"
   ]
  },
  {
   "cell_type": "code",
   "execution_count": 21,
   "id": "884cd940",
   "metadata": {},
   "outputs": [],
   "source": [
    "cnn_report = classification_report(cnn_labels, cnn_predictions)\n",
    "cnn_confusion = confusion_matrix(cnn_labels, cnn_predictions)"
   ]
  },
  {
   "cell_type": "code",
   "execution_count": 22,
   "id": "3389c99b",
   "metadata": {},
   "outputs": [
    {
     "name": "stdout",
     "output_type": "stream",
     "text": [
      "CNN Model Evaluation Metrics:\n",
      "              precision    recall  f1-score   support\n",
      "\n",
      "           0       0.79      0.62      0.70      1000\n",
      "           1       0.81      0.77      0.79      1000\n",
      "           2       0.54      0.52      0.53      1000\n",
      "           3       0.49      0.51      0.50      1000\n",
      "           4       0.62      0.66      0.64      1000\n",
      "           5       0.61      0.56      0.58      1000\n",
      "           6       0.72      0.78      0.75      1000\n",
      "           7       0.68      0.78      0.73      1000\n",
      "           8       0.74      0.81      0.78      1000\n",
      "           9       0.78      0.76      0.77      1000\n",
      "\n",
      "    accuracy                           0.68     10000\n",
      "   macro avg       0.68      0.68      0.68     10000\n",
      "weighted avg       0.68      0.68      0.68     10000\n",
      "\n",
      "CNN Model Confusion Matrix:\n",
      "[[625  19 100  32  19   3  11  27 122  42]\n",
      " [ 17 768  10  16   5   3  12   7  50 112]\n",
      " [ 40   3 517  66 122  94  74  61  15   8]\n",
      " [ 12   9  72 513  76 149  89  55  16   9]\n",
      " [ 19   2  78  65 656  17  69  77  13   4]\n",
      " [  3   6  73 192  59 556  23  76   9   3]\n",
      " [  3   4  49  84  46  14 782  12   5   1]\n",
      " [  7   4  39  33  62  60   3 782   4   6]\n",
      " [ 47  45  14  25   6   5   8   6 813  31]\n",
      " [ 20  90   9  16   7   6   9  39  48 756]]\n"
     ]
    }
   ],
   "source": [
    "print(\"CNN Model Evaluation Metrics:\")\n",
    "print(cnn_report)\n",
    "print(\"CNN Model Confusion Matrix:\")\n",
    "print(cnn_confusion)"
   ]
  },
  {
   "cell_type": "code",
   "execution_count": 23,
   "id": "4b5674e2",
   "metadata": {},
   "outputs": [
    {
     "data": {
      "image/png": "[encoded data removed]",
      "text/plain": [
       "<Figure size 576x432 with 2 Axes>"
      ]
     },
     "metadata": {
      "needs_background": "light"
     },
     "output_type": "display_data"
    }
   ],
   "source": [
    "plt.figure(figsize=(8, 6))\n",
    "plt.imshow(cnn_confusion, cmap=plt.cm.Blues)\n",
    "plt.title('CNN Model Confusion Matrix')\n",
    "plt.colorbar()\n",
    "plt.xlabel('Predicted Label')\n",
    "plt.ylabel('True Label')\n",
    "plt.xticks(np.arange(10))\n",
    "plt.yticks(np.arange(10))\n",
    "plt.show()"
   ]
  },
  {
   "cell_type": "code",
   "execution_count": 24,
   "id": "232ff742",
   "metadata": {},
   "outputs": [
    {
     "data": {
      "image/png": "[encoded data removed]",
      "text/plain": [
       "<Figure size 576x432 with 2 Axes>"
      ]
     },
     "metadata": {
      "needs_background": "light"
     },
     "output_type": "display_data"
    }
   ],
   "source": [
    "plt.figure(figsize=(8, 6))\n",
    "plt.imshow(transfer_confusion, cmap=plt.cm.Blues)\n",
    "plt.title('Transfer Learning Model Confusion Matrix')\n",
    "plt.colorbar()\n",
    "plt.xlabel('Predicted Label')\n",
    "plt.ylabel('True Label')\n",
    "plt.xticks(np.arange(10))\n",
    "plt.yticks(np.arange(10))\n",
    "plt.show()"
   ]
  },
  {
   "cell_type": "code",
   "execution_count": 25,
   "id": "e45b7825",
   "metadata": {},
   "outputs": [
    {
     "name": "stdout",
     "output_type": "stream",
     "text": [
      "Evaluation Metrics:\n",
      "                     Model  Test Loss  Test Accuracy\n",
      "0                CNN Model   0.928601         0.6768\n",
      "1  Transfer Learning Model   1.132878         0.6006\n"
     ]
    }
   ],
   "source": [
    "metrics_table = pd.DataFrame({\n",
    "    'Model': ['CNN Model', 'Transfer Learning Model'],\n",
    "    'Test Loss': [cnn_loss, transfer_loss],\n",
    "    'Test Accuracy': [cnn_accuracy, transfer_accuracy]\n",
    "})\n",
    "print(\"Evaluation Metrics:\")\n",
    "print(metrics_table)"
   ]
  },
  {
   "cell_type": "code",
   "execution_count": 26,
   "id": "59603624",
   "metadata": {},
   "outputs": [
    {
     "name": "stdout",
     "output_type": "stream",
     "text": [
      "1563/1563 [==============================] - 14s 9ms/step - loss: 0.7136 - accuracy: 0.7585\n",
      "CNN Model - Training Loss: 0.7136\n",
      "CNN Model - Training Accuracy: 75.85%\n"
     ]
    }
   ],
   "source": [
    "cnn_train_loss, cnn_train_acc = cnn_model.evaluate(x_train, y_train)\n",
    "print(f\"CNN Model - Training Loss: {cnn_train_loss:.4f}\")\n",
    "print(f\"CNN Model - Training Accuracy: {cnn_train_acc*100:.2f}%\")"
   ]
  },
  {
   "cell_type": "code",
   "execution_count": 27,
   "id": "0afc5880",
   "metadata": {},
   "outputs": [
    {
     "name": "stdout",
     "output_type": "stream",
     "text": [
      "1563/1563 [==============================] - 122s 78ms/step - loss: 1.0229 - accuracy: 0.6445\n",
      "Transfer Learning Model - Training Loss: 1.0229\n",
      "Transfer Learning Model - Training Accuracy: 64.45%\n"
     ]
    }
   ],
   "source": [
    "transfer_train_loss, transfer_train_acc = transfer_model.evaluate(x_train, y_train)\n",
    "print(f\"Transfer Learning Model - Training Loss: {transfer_train_loss:.4f}\")\n",
    "print(f\"Transfer Learning Model - Training Accuracy: {transfer_train_acc*100:.2f}%\")"
   ]
  },
  {
   "cell_type": "code",
   "execution_count": 28,
   "id": "376840db",
   "metadata": {},
   "outputs": [
    {
     "name": "stdout",
     "output_type": "stream",
     "text": [
      "Model Performance on Training and Testing Sets:\n",
      "                     Model  Training Accuracy  Test Accuracy\n",
      "0                CNN Model            0.75854         0.6768\n",
      "1  Transfer Learning Model            0.64454         0.6006\n"
     ]
    }
   ],
   "source": [
    "performance_table = pd.DataFrame({\n",
    "    'Model': ['CNN Model', 'Transfer Learning Model'],\n",
    "    'Training Accuracy': [cnn_train_acc, transfer_train_acc],\n",
    "    'Test Accuracy': [cnn_accuracy, transfer_accuracy]\n",
    "})\n",
    "\n",
    "print(\"Model Performance on Training and Testing Sets:\")\n",
    "print(performance_table)"
   ]
  },
  {
   "cell_type": "code",
   "execution_count": null,
   "id": "c2270448",
   "metadata": {},
   "outputs": [],
   "source": []
  }
 ],
 "metadata": {
  "kernelspec": {
   "display_name": "Python 3",
   "language": "python",
   "name": "python3"
  },
  "language_info": {
   "codemirror_mode": {
    "name": "ipython",
    "version": 3
   },
   "file_extension": ".py",
   "mimetype": "text/x-python",
   "name": "python",
   "nbconvert_exporter": "python",
   "pygments_lexer": "ipython3",
   "version": "3.8.8"
  }
 },
 "nbformat": 4,
 "nbformat_minor": 5
}
